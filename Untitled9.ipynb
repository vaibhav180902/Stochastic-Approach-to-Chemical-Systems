{
 "cells": [
  {
   "cell_type": "code",
   "execution_count": 2,
   "id": "e6ffe846",
   "metadata": {},
   "outputs": [
    {
     "name": "stdout",
     "output_type": "stream",
     "text": [
      "Average velocity of hydrogen molecule at 298 K: 754.70 m/s\n"
     ]
    }
   ],
   "source": [
    "import random\n",
    "import math\n",
    "\n",
    "m = 3.34e-27 \n",
    "k = 1.38e-23 \n",
    "T = 298\n",
    "\n",
    "\n",
    "v_max = math.sqrt(2*k*T/m) \n",
    "g = lambda v: 4*v**2 / (v_max**3 * math.pi) if v <= v_max else 0 \n",
    "\n",
    "# Target distribution\n",
    "f = lambda v: (m/(2*math.pi*k*T))**(3/2) * 4*math.pi*v**2 * math.exp(-m*v**2/(2*k*T))\n",
    "\n",
    "\n",
    "N = 1000000 \n",
    "samples = []\n",
    "while len(samples) < N:\n",
    "    \n",
    "    v = random.uniform(0, v_max)\n",
    "    u = random.uniform(0, 1)\n",
    "    \n",
    "    if u < f(v) / g(v):\n",
    "        samples.append(v)\n",
    "\n",
    "\n",
    "average_velocity = sum(samples) / N\n",
    "\n",
    "print(\"Average velocity of hydrogen molecule at 298 K: {:.2f} m/s\".format(average_velocity))\n"
   ]
  },
  {
   "cell_type": "code",
   "execution_count": null,
   "id": "ff1a9123",
   "metadata": {},
   "outputs": [],
   "source": []
  }
 ],
 "metadata": {
  "kernelspec": {
   "display_name": "Python 3 (ipykernel)",
   "language": "python",
   "name": "python3"
  },
  "language_info": {
   "codemirror_mode": {
    "name": "ipython",
    "version": 3
   },
   "file_extension": ".py",
   "mimetype": "text/x-python",
   "name": "python",
   "nbconvert_exporter": "python",
   "pygments_lexer": "ipython3",
   "version": "3.9.12"
  }
 },
 "nbformat": 4,
 "nbformat_minor": 5
}
